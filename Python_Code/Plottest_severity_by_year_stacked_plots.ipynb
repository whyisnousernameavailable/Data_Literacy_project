{
 "cells": [
  {
   "cell_type": "code",
   "execution_count": 1,
   "id": "364d9da8",
   "metadata": {},
   "outputs": [],
   "source": [
    "import pandas as pd\n",
    "import matplotlib.pyplot as plt\n",
    "\n",
    "from definitions import load_users_csv, load_caracteristics_csv\n",
    "\n",
    "data_users = load_users_csv()\n",
    "data_caracteristics = load_caracteristics_csv()\n",
    "\n",
    "#print(data_users.head())\n",
    "#print(data_users[['Num_Acc', 'grav']].head())\n",
    "\n",
    "\n"
   ]
  },
  {
   "cell_type": "code",
   "execution_count": 2,
   "id": "958e5c69",
   "metadata": {},
   "outputs": [
    {
     "name": "stdout",
     "output_type": "stream",
     "text": [
      "    an  grav      0\n",
      "0    5     0  80272\n",
      "1    5    50  70891\n",
      "2    5    10  40792\n",
      "3    5   100   5543\n",
      "4    6     0  76163\n",
      "5    6    50  64111\n",
      "6    6    10  41869\n",
      "7    6   100   4942\n",
      "8    7     0  76910\n",
      "9    7    50  66955\n",
      "10   7    10  39754\n",
      "11   7   100   4838\n",
      "12   8     0  69612\n",
      "13   8    50  60726\n",
      "14   8    10  36179\n",
      "15   8   100   4443\n",
      "16   9     0  67806\n",
      "17   9    50  59207\n",
      "18   9    10  34506\n",
      "19   9   100   4443\n",
      "20  10     0  62847\n",
      "21  10    50  55836\n",
      "22  10    10  31337\n",
      "23  10   100   4172\n",
      "24  11     0  60560\n",
      "25  11    50  53237\n",
      "26  11    10  30635\n",
      "27  11   100   4111\n",
      "28  12     0  56577\n",
      "29  12    50  50102\n",
      "30  12    10  28107\n",
      "31  12   100   3842\n",
      "32  13     0  52622\n",
      "33  13    50  45750\n",
      "34  13    10  26895\n",
      "35  13   100   3427\n",
      "36  14     0  53487\n",
      "37  14    50  47640\n",
      "38  14    10  27502\n",
      "39  14   100   3557\n",
      "40  15     0  53378\n",
      "41  15    50  45667\n",
      "42  15    10  27717\n",
      "43  15   100   3616\n",
      "44  16     0  54640\n",
      "45  16    50  46751\n",
      "46  16    10  28376\n",
      "47  16   100   3655\n",
      "Index(['an', 'grav', 0], dtype='object')\n",
      "grav    0      10     50    100\n",
      "an                             \n",
      "5     80272  40792  70891  5543\n",
      "6     76163  41869  64111  4942\n",
      "7     76910  39754  66955  4838\n",
      "8     69612  36179  60726  4443\n",
      "9     67806  34506  59207  4443\n",
      "10    62847  31337  55836  4172\n",
      "11    60560  30635  53237  4111\n",
      "12    56577  28107  50102  3842\n",
      "13    52622  26895  45750  3427\n",
      "14    53487  27502  47640  3557\n",
      "15    53378  27717  45667  3616\n",
      "16    54640  28376  46751  3655\n"
     ]
    },
    {
     "data": {
      "image/png": "[encoded data removed]",
      "text/plain": [
       "<Figure size 432x288 with 1 Axes>"
      ]
     },
     "metadata": {
      "needs_background": "light"
     },
     "output_type": "display_data"
    }
   ],
   "source": [
    "severity_by_year = pd.merge(data_users[['Num_Acc', 'grav']],\n",
    "                            data_caracteristics[['Num_Acc', 'an']],\n",
    "                            how=\"left\",\n",
    "                            on=['Num_Acc', 'Num_Acc'])\n",
    "\n",
    "#print(severity_by_year.head())\n",
    "\n",
    "res = severity_by_year[['grav', 'an']].groupby(['an']).value_counts().reset_index()\n",
    "#print(severity_by_year[['grav', 'an']].groupby(['an']))\n",
    "print(res)\n",
    "#print(res.dtype)\n",
    "#print(res.shape)\n",
    "print(res.columns)\n",
    "#res_frame.pivot(index='an', columns='grav')\n",
    "#print(res_frame)\n",
    "#print(res_frame.shape)\n",
    "res = res.pivot(index='an', columns='grav', values=0)\n",
    "print(res)\n",
    "res.plot(kind='bar', stacked=True)\n",
    "plt.show()"
   ]
  },
  {
   "cell_type": "code",
   "execution_count": 1,
   "id": "ea431e0d",
   "metadata": {},
   "outputs": [
    {
     "name": "stdout",
     "output_type": "stream",
     "text": [
      "1.4.0\n"
     ]
    }
   ],
   "source": [
    "import pandas as pd\n",
    "\n",
    "print(pd.__version__)"
   ]
  },
  {
   "cell_type": "code",
   "execution_count": null,
   "id": "708940c0",
   "metadata": {},
   "outputs": [],
   "source": []
  }
 ],
 "metadata": {
  "kernelspec": {
   "display_name": "Python 3 (ipykernel)",
   "language": "python",
   "name": "python3"
  },
  "language_info": {
   "codemirror_mode": {
    "name": "ipython",
    "version": 3
   },
   "file_extension": ".py",
   "mimetype": "text/x-python",
   "name": "python",
   "nbconvert_exporter": "python",
   "pygments_lexer": "ipython3",
   "version": "3.9.8"
  }
 },
 "nbformat": 4,
 "nbformat_minor": 5
}
