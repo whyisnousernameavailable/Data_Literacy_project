{
 "cells": [
  {
   "cell_type": "code",
   "execution_count": 1,
   "id": "364d9da8",
   "metadata": {},
   "outputs": [],
   "source": [
    "import pandas as pd\n",
    "import matplotlib.pyplot as plt\n",
    "from tueplots import bundles\n",
    "\n",
    "from definitions import load_users_csv, load_caracteristics_csv, load_vehicles_csv\n",
    "\n",
    "\n",
    "plt.rcParams.update(bundles.neurips2021(usetex=False))\n",
    "\n",
    "data_users = load_users_csv()\n",
    "data_caracteristics = load_caracteristics_csv()\n",
    "\n",
    "#print(data_users.head())\n",
    "#print(data_users[['Num_Acc', 'grav']].head())\n",
    "\n",
    "\n"
   ]
  },
  {
   "cell_type": "code",
   "execution_count": 2,
   "id": "958e5c69",
   "metadata": {},
   "outputs": [],
   "source": [
    "severity_by_year = pd.merge(data_users[['Num_Acc', 'grav']],\n",
    "                            data_caracteristics[['Num_Acc', 'an']],\n",
    "                            how=\"left\",\n",
    "                            on=['Num_Acc', 'Num_Acc'])\n",
    "\n",
    "#print(severity_by_year.head())\n",
    "\n",
    "res = severity_by_year[['grav', 'an']].groupby(['an']).value_counts().reset_index()\n",
    "#print(severity_by_year[['grav', 'an']].groupby(['an']))\n",
    "\n",
    "res['an'] = res['an'] + 2000\n",
    "\n",
    "#print(res.dtype)\n",
    "#print(res.shape)\n",
    "\n",
    "#res_frame.pivot(index='an', columns='grav')\n",
    "#print(res_frame)\n",
    "#print(res_frame.shape)\n",
    "res = res.pivot(index='an', columns='grav', values=0)\n",
    "\n",
    "#print(res)\n",
    "res = res.rename(columns={0: 'Unscathed', 10: 'Lightly Injured', 50: 'Hospitalized', 100: 'Killed'})\n",
    "res.columns.name = 'Severity'\n",
    "\n"
   ]
  },
  {
   "cell_type": "code",
   "execution_count": 3,
   "id": "ea431e0d",
   "metadata": {},
   "outputs": [
    {
     "name": "stdout",
     "output_type": "stream",
     "text": [
      "1.4.0\n"
     ]
    }
   ],
   "source": [
    "import pandas as pd\n",
    "\n",
    "print(pd.__version__)"
   ]
  },
  {
   "cell_type": "code",
   "execution_count": 7,
   "id": "708940c0",
   "metadata": {},
   "outputs": [
    {
     "name": "stdout",
     "output_type": "stream",
     "text": [
      "          Num_Acc num_veh  grav  catv\n",
      "33   201600000015     B02    50     1\n",
      "34   201600000015     C03     0     1\n",
      "110  201600000052     B02    50     1\n",
      "145  201600000070     B02    50     1\n",
      "158  201600000076     B02    50     1\n"
     ]
    }
   ],
   "source": [
    "data_vehicles = load_vehicles_csv()\n",
    "\n",
    "data_bike_users = pd.merge(data_users[['Num_Acc', 'num_veh', 'grav']],\n",
    "                          data_vehicles[['Num_Acc', 'num_veh', 'catv']],\n",
    "                          how='left',\n",
    "                           left_on=['Num_Acc', 'num_veh'],\n",
    "                           right_on=['Num_Acc', 'num_veh'])\n",
    "\n",
    "data_bike_users = data_bike_users.loc[data_bike_users['catv'] == 1]\n",
    "print(data_bike_users.head())\n",
    "\n",
    "bike_severity_by_year = pd.merge(data_bike_users[['Num_Acc', 'grav']],\n",
    "                            data_caracteristics[['Num_Acc', 'an']],\n",
    "                            how=\"left\",\n",
    "                            on=['Num_Acc', 'Num_Acc'])\n",
    "\n",
    "bike_res = bike_severity_by_year[['grav', 'an']].groupby(['an']).value_counts().reset_index()\n",
    "bike_res['an'] = bike_res['an'] + 2000\n",
    "bike_res = bike_res.pivot(index='an', columns='grav', values=0)\n",
    "bike_res = bike_res.rename(columns={0: 'Unscathed', 10: 'Lightly Injured', 50: 'Hospitalized', 100: 'Killed'})\n",
    "bike_res.columns.name = 'Severity'"
   ]
  },
  {
   "cell_type": "code",
   "execution_count": 14,
   "id": "d9d8ed7e",
   "metadata": {},
   "outputs": [
    {
     "data": {
      "image/png": "[encoded data removed]",
      "text/plain": [
       "<Figure size 396x244.741 with 2 Axes>"
      ]
     },
     "metadata": {
      "needs_background": "light"
     },
     "output_type": "display_data"
    }
   ],
   "source": [
    "fig,axes = plt.subplots(nrows=1, ncols=2)\n",
    "\n",
    "res.plot(kind='bar', stacked=True, xlabel='year', ylabel='Accident participants', ax=axes[0], ylim=[0, 210000])\n",
    "bike_res.plot(kind='bar', stacked=True, xlabel='year', ax=axes[1], ylim=[0, 7500])\n",
    "plt.savefig('..//Plots//Accidents_per_year_and_severity.pdf', format='pdf')\n",
    "plt.show()"
   ]
  },
  {
   "cell_type": "code",
   "execution_count": 15,
   "id": "cb9d60ff",
   "metadata": {},
   "outputs": [
    {
     "data": {
      "image/png": "[encoded data removed]",
      "text/plain": [
       "<Figure size 396x244.741 with 1 Axes>"
      ]
     },
     "metadata": {
      "needs_background": "light"
     },
     "output_type": "display_data"
    }
   ],
   "source": [
    "res.plot(kind='bar', stacked=True, xlabel='year', ylabel='Biking accident participants' ylim=[0, 210000])\n",
    "plt.savefig('..//Plots//Accidents_per_year_and_severity_all.pdf', format='pdf')\n",
    "plt.show()"
   ]
  },
  {
   "cell_type": "code",
   "execution_count": 16,
   "id": "dfd19d5a",
   "metadata": {},
   "outputs": [
    {
     "data": {
      "image/png": "[encoded data removed]",
      "text/plain": [
       "<Figure size 396x244.741 with 1 Axes>"
      ]
     },
     "metadata": {
      "needs_background": "light"
     },
     "output_type": "display_data"
    }
   ],
   "source": [
    "bike_res.plot(kind='bar', stacked=True, xlabel='year', ylim=[0, 7500])\n",
    "plt.savefig('..//Plots//Accidents_per_year_and_severity_bikes.pdf', format='pdf')\n",
    "plt.show()"
   ]
  },
  {
   "cell_type": "code",
   "execution_count": null,
   "id": "fba5b5c5",
   "metadata": {},
   "outputs": [],
   "source": []
  }
 ],
 "metadata": {
  "kernelspec": {
   "display_name": "Python 3 (ipykernel)",
   "language": "python",
   "name": "python3"
  },
  "language_info": {
   "codemirror_mode": {
    "name": "ipython",
    "version": 3
   },
   "file_extension": ".py",
   "mimetype": "text/x-python",
   "name": "python",
   "nbconvert_exporter": "python",
   "pygments_lexer": "ipython3",
   "version": "3.9.8"
  }
 },
 "nbformat": 4,
 "nbformat_minor": 5
}
