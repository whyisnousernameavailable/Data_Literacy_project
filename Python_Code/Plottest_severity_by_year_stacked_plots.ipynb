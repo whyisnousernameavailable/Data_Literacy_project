{
 "cells": [
  {
   "cell_type": "code",
   "execution_count": 1,
   "id": "364d9da8",
   "metadata": {},
   "outputs": [],
   "source": [
    "import pandas as pd\n",
    "import matplotlib.pyplot as plt\n",
    "from tueplots import bundles\n",
    "\n",
    "from definitions import load_users_csv, load_caracteristics_csv\n",
    "\n",
    "\n",
    "plt.rcParams.update(bundles.neurips2021(usetex=False))\n",
    "\n",
    "data_users = load_users_csv()\n",
    "data_caracteristics = load_caracteristics_csv()\n",
    "\n",
    "#print(data_users.head())\n",
    "#print(data_users[['Num_Acc', 'grav']].head())\n",
    "\n",
    "\n"
   ]
  },
  {
   "cell_type": "code",
   "execution_count": 20,
   "id": "958e5c69",
   "metadata": {},
   "outputs": [
    {
     "name": "stdout",
     "output_type": "stream",
     "text": [
      "grav    0      10     50    100\n",
      "an                             \n",
      "5     80272  70891  40792  5543\n",
      "6     76163  64111  41869  4942\n",
      "7     76910  66955  39754  4838\n",
      "8     69612  60726  36179  4443\n",
      "9     67806  59207  34506  4443\n",
      "10    62847  55836  31337  4172\n",
      "11    60560  53237  30635  4111\n",
      "12    56577  50102  28107  3842\n",
      "13    52622  45750  26895  3427\n",
      "14    53487  47640  27502  3557\n",
      "15    53378  45667  27717  3616\n",
      "16    54640  46751  28376  3655\n",
      "Index(['Unscathed', 'Lightly Injured', 'Hospitalized', 'Killed'], dtype='object', name='Severity')\n"
     ]
    },
    {
     "data": {
      "image/png": "[encoded data removed]",
      "text/plain": [
       "<Figure size 396x244.741 with 1 Axes>"
      ]
     },
     "metadata": {
      "needs_background": "light"
     },
     "output_type": "display_data"
    }
   ],
   "source": [
    "severity_by_year = pd.merge(data_users[['Num_Acc', 'grav']],\n",
    "                            data_caracteristics[['Num_Acc', 'an']],\n",
    "                            how=\"left\",\n",
    "                            on=['Num_Acc', 'Num_Acc'])\n",
    "\n",
    "#print(severity_by_year.head())\n",
    "\n",
    "res = severity_by_year[['grav', 'an']].groupby(['an']).value_counts().reset_index()\n",
    "#print(severity_by_year[['grav', 'an']].groupby(['an']))\n",
    "\n",
    "#print(res.dtype)\n",
    "#print(res.shape)\n",
    "\n",
    "#res_frame.pivot(index='an', columns='grav')\n",
    "#print(res_frame)\n",
    "#print(res_frame.shape)\n",
    "res = res.pivot(index='an', columns='grav', values=0)\n",
    "\n",
    "print(res)\n",
    "res = res.rename(columns={0: 'Unscathed', 10: 'Lightly Injured', 50: 'Hospitalized', 100: 'Killed'})\n",
    "res.columns.name = 'Severity'\n",
    "print(res.columns)\n",
    "res.plot(kind='bar', stacked=True, xlabel='year')\n",
    "plt.savefig('..//Plots//Accidents_per_year_and_severity.pdf', format='pdf')\n",
    "plt.show()"
   ]
  },
  {
   "cell_type": "code",
   "execution_count": 1,
   "id": "ea431e0d",
   "metadata": {},
   "outputs": [
    {
     "name": "stdout",
     "output_type": "stream",
     "text": [
      "1.4.0\n"
     ]
    }
   ],
   "source": [
    "import pandas as pd\n",
    "\n",
    "print(pd.__version__)"
   ]
  },
  {
   "cell_type": "code",
   "execution_count": null,
   "id": "708940c0",
   "metadata": {},
   "outputs": [],
   "source": []
  }
 ],
 "metadata": {
  "kernelspec": {
   "display_name": "Python 3 (ipykernel)",
   "language": "python",
   "name": "python3"
  },
  "language_info": {
   "codemirror_mode": {
    "name": "ipython",
    "version": 3
   },
   "file_extension": ".py",
   "mimetype": "text/x-python",
   "name": "python",
   "nbconvert_exporter": "python",
   "pygments_lexer": "ipython3",
   "version": "3.9.8"
  }
 },
 "nbformat": 4,
 "nbformat_minor": 5
}
