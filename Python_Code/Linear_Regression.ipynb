{
 "cells": [
  {
   "cell_type": "code",
   "execution_count": 1,
   "id": "1ea69baf",
   "metadata": {},
   "outputs": [],
   "source": [
    "import pandas as pd\n",
    "import matplotlib.pyplot as plt\n",
    "from definitions import load_caracteristics_csv, load_users_csv, load_places_csv, load_vehicles_csv\n",
    "from tueplots import bundles\n",
    "\n",
    "\n",
    "\n"
   ]
  },
  {
   "cell_type": "code",
   "execution_count": null,
   "id": "c4723c94",
   "metadata": {},
   "outputs": [],
   "source": [
    "data_caracteristics = load_caracteristics_csv()\n",
    "data_users = load_users_csv()\n",
    "data_places = load_places_csv()\n",
    "data_vehicles = load_vehicles_csv()"
   ]
  },
  {
   "cell_type": "code",
   "execution_count": null,
   "id": "1ca28b51",
   "metadata": {},
   "outputs": [],
   "source": [
    "lr_data_caracteristics = data_caracteristics[['Num_Acc', 'jour', 'mois', 'an', 'hrmn', 'lum',\n",
    "                                             'agg', 'int', 'atm', 'col']]\n",
    "#lum, hrmn\n",
    "print(lr_data_caracteristics.head())\n",
    "lr_data_places = data_places[['Num_Acc', 'catr', 'circ', 'nbv', 'vosp', 'prof', 'plan', 'surf',\n",
    "                             'infra', 'situ']]\n",
    "print(lr_data_places.head())\n",
    "\n",
    "lr_data_users = data_users[['Num_Acc', 'catu', 'grav', 'sexe', 'an_nais', 'trajet',\n",
    "                           'locp', 'actp', 'etatp']]\n",
    "#an_nais in alter umrechnen\n",
    "print(lr_data_users.head())"
   ]
  },
  {
   "cell_type": "code",
   "execution_count": null,
   "id": "a833f1ea",
   "metadata": {},
   "outputs": [],
   "source": [
    "users_caracteristics_data = pd.merge(lr_data_users,\n",
    "                                    lr_data_caracteristics,\n",
    "                                    how='left',\n",
    "                                    on=['Num_Acc', 'Num_Acc'])\n",
    "ucpd = pd.merge(users_caracteristics_data,\n",
    "                                           lr_data_places,\n",
    "                                           how='left',\n",
    "                                           on=['Num_Acc', 'Num_Acc'])\n",
    "\n",
    "def convert_lum(x):\n",
    "    if x == 5:\n",
    "        return 3\n",
    "    if x == 3:\n",
    "        return 5\n",
    "    return x\n",
    "\n",
    "def convert_hrmn(x):\n",
    "    hours, minutes = divmod(x, 100)\n",
    "    return hours * 60 + minutes\n",
    "\n",
    "\n",
    "ucpd['lum'] = ucpd['lum'].map(lambda a: convert_lum(a))\n",
    "ucpd['hrmn'] = ucpd['hrmn'].map(lambda a: convert_hrmn(a))\n",
    "ucpd['an_nais'] = 2000 + ucpd['an'] - ucpd['an_nais']\n",
    "\n",
    "ucpd[['lum', 'hrmn', 'an_nais']].head()\n",
    "ucpd.dtypes"
   ]
  },
  {
   "cell_type": "code",
   "execution_count": null,
   "id": "70a0fc00",
   "metadata": {
    "scrolled": true
   },
   "outputs": [],
   "source": [
    "from sklearn.linear_model import LinearRegression\n",
    "import numpy as np\n",
    "\n",
    "ucpd.dropna(inplace=True)\n",
    "\n",
    "X = ucpd.loc[:, ucpd.columns!= 'grav']\n",
    "X = X.loc[:, X.columns!='Num_Acc']\n",
    "Y = ucpd[['grav']]\n",
    "\n",
    "\n",
    "#for column in X.columns:\n",
    "#    print(X[[column]].value_counts())\n",
    "\n",
    "reg = LinearRegression().fit(X, Y)\n",
    "reg.coef_\n",
    "\n",
    "#1876005"
   ]
  },
  {
   "cell_type": "code",
   "execution_count": null,
   "id": "a76574dc",
   "metadata": {},
   "outputs": [],
   "source": [
    "plt.barh(X.columns, np.reshape(reg.coef_, newshape=-1), height=0.9)\n",
    "plt.savefig('..//Plots//Linear_Regression_grav.pdf')\n",
    "plt.show()"
   ]
  },
  {
   "cell_type": "code",
   "execution_count": null,
   "id": "0f8fc24a",
   "metadata": {},
   "outputs": [],
   "source": [
    "bike_lr_data_users = data_users[['Num_Acc', 'catu', 'grav', 'sexe', 'an_nais', 'trajet',\n",
    "                           'locp', 'actp', 'etatp', 'num_veh']]\n",
    "bike_lr_data_vehicles = data_vehicles[['Num_Acc', 'num_veh', 'catv']]\n"
   ]
  },
  {
   "cell_type": "code",
   "execution_count": null,
   "id": "1282b698",
   "metadata": {},
   "outputs": [],
   "source": [
    "bike_user_data = pd.merge(bike_lr_data_users,\n",
    "                         bike_lr_data_vehicles,\n",
    "                         how='left',\n",
    "                         left_on=['Num_Acc', 'num_veh'],\n",
    "                         right_on=['Num_Acc', 'num_veh'])\n",
    "\n",
    "bike_user_data = bike_user_data.loc[bike_user_data['catv'] == 1]\n",
    "bike_user_data = bike_user_data.loc[:, bike_user_data.columns != 'num_veh']\n",
    "\n",
    "bike_users_caracteristics_data = pd.merge(bike_user_data,\n",
    "                                    lr_data_caracteristics,\n",
    "                                    how='left',\n",
    "                                    on=['Num_Acc', 'Num_Acc'])\n",
    "\n",
    "bucpd = pd.merge(bike_users_caracteristics_data,\n",
    "                                           lr_data_places,\n",
    "                                           how='left',\n",
    "                                           on=['Num_Acc', 'Num_Acc'])\n",
    "\n",
    "bucpd['lum'] = bucpd['lum'].map(lambda a: convert_lum(a))\n",
    "bucpd['hrmn'] = bucpd['hrmn'].map(lambda a: convert_hrmn(a))\n",
    "bucpd['an_nais'] = 2000 + bucpd['an'] - bucpd['an_nais']\n",
    "\n",
    "bucpd.dropna(inplace=True)"
   ]
  },
  {
   "cell_type": "code",
   "execution_count": null,
   "id": "22ec5b56",
   "metadata": {},
   "outputs": [],
   "source": [
    "bike_X = bucpd.loc[:, bucpd.columns!= 'grav']\n",
    "bike_X = bike_X.loc[:, bike_X.columns!='Num_Acc']\n",
    "bike_X = bike_X.loc[:, bike_X.columns!='catv']\n",
    "bike_Y = bucpd[['grav']]\n",
    "\n",
    "bike_reg = LinearRegression().fit(bike_X, bike_Y)\n",
    "bike_reg.coef_"
   ]
  },
  {
   "cell_type": "code",
   "execution_count": null,
   "id": "72791d53",
   "metadata": {},
   "outputs": [],
   "source": [
    "plt.barh(bike_X.columns, np.reshape(bike_reg.coef_, newshape=-1), height=0.9)\n",
    "plt.savefig('..//Plots//Bike_Linear_Regression_grav.pdf')\n",
    "plt.show()"
   ]
  },
  {
   "cell_type": "code",
   "execution_count": null,
   "id": "fa3793be",
   "metadata": {},
   "outputs": [],
   "source": []
  }
 ],
 "metadata": {
  "kernelspec": {
   "display_name": "Python 3 (ipykernel)",
   "language": "python",
   "name": "python3"
  },
  "language_info": {
   "codemirror_mode": {
    "name": "ipython",
    "version": 3
   },
   "file_extension": ".py",
   "mimetype": "text/x-python",
   "name": "python",
   "nbconvert_exporter": "python",
   "pygments_lexer": "ipython3",
   "version": "3.9.8"
  }
 },
 "nbformat": 4,
 "nbformat_minor": 5
}
