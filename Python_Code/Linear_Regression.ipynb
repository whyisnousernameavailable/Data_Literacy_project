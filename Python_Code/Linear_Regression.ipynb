{
 "cells": [
  {
   "cell_type": "code",
   "execution_count": 1,
   "id": "1ea69baf",
   "metadata": {},
   "outputs": [],
   "source": [
    "import pandas as pd\n",
    "import matplotlib.pyplot as plt\n",
    "from definitions import load_caracteristics_csv, load_users_csv, load_places_csv, load_vehicles_csv\n",
    "from tueplots import bundles\n"
   ]
  },
  {
   "cell_type": "code",
   "execution_count": 2,
   "id": "c4723c94",
   "metadata": {},
   "outputs": [],
   "source": [
    "data_caracteristics = load_caracteristics_csv()\n",
    "data_users = load_users_csv()\n",
    "data_places = load_places_csv()\n",
    "data_vehicles = load_vehicles_csv()"
   ]
  },
  {
   "cell_type": "code",
   "execution_count": 3,
   "id": "1ca28b51",
   "metadata": {},
   "outputs": [
    {
     "name": "stdout",
     "output_type": "stream",
     "text": [
      "        Num_Acc  jour  mois  an  hrmn  lum  agg  int  atm  col\n",
      "0  201600000001     1     2  16  1445    1    2    1    8    3\n",
      "1  201600000002    16     3  16  1800    1    2    6    1    6\n",
      "2  201600000003    13     7  16  1900    1    1    1    1    6\n",
      "3  201600000004    15     8  16  1930    2    2    1    7    3\n",
      "4  201600000005    23    12  16  1100    1    2    3    1    3\n",
      "        Num_Acc  catr  circ  nbv  vosp  prof  plan  surf  infra  situ\n",
      "0  201600000001     3     2    0     0     1     3     1      0     1\n",
      "1  201600000002     3     1    0     0     1     2     1      0     1\n",
      "2  201600000003     3     2    2     0     1     3     2      0     3\n",
      "3  201600000004     4     2    0     0     1     1     1      0     1\n",
      "4  201600000005     4     0    0     0     0     1     1      0     1\n",
      "        Num_Acc  catu  grav  sexe  an_nais  trajet  locp  actp  etatp\n",
      "0  201600000001     1     0     2     1983       0     0     0      0\n",
      "1  201600000001     1    50     1     2001       9     0     0      0\n",
      "2  201600000002     1    50     1     1960       5     0     0      0\n",
      "3  201600000002     2    50     1     2000       0     0     0      0\n",
      "4  201600000002     2    50     2     1962       0     0     0      0\n"
     ]
    }
   ],
   "source": [
    "lr_data_caracteristics = data_caracteristics[['Num_Acc', 'jour', 'mois', 'an', 'hrmn', 'lum',\n",
    "                                             'agg', 'int', 'atm', 'col']]\n",
    "#lum, hrmn\n",
    "print(lr_data_caracteristics.head())\n",
    "lr_data_places = data_places[['Num_Acc', 'catr', 'circ', 'nbv', 'vosp', 'prof', 'plan', 'surf',\n",
    "                             'infra', 'situ']]\n",
    "print(lr_data_places.head())\n",
    "\n",
    "lr_data_users = data_users[['Num_Acc', 'catu', 'grav', 'sexe', 'an_nais', 'trajet',\n",
    "                           'locp', 'actp', 'etatp']]\n",
    "#an_nais in alter umrechnen\n",
    "print(lr_data_users.head())"
   ]
  },
  {
   "cell_type": "code",
   "execution_count": 4,
   "id": "a833f1ea",
   "metadata": {},
   "outputs": [
    {
     "data": {
      "text/plain": [
       "Num_Acc    Int64\n",
       "catu        Int8\n",
       "grav       int64\n",
       "sexe        Int8\n",
       "an_nais    Int16\n",
       "trajet      Int8\n",
       "locp        Int8\n",
       "actp        Int8\n",
       "etatp       Int8\n",
       "jour        Int8\n",
       "mois        Int8\n",
       "an         Int16\n",
       "hrmn       int64\n",
       "lum        int64\n",
       "agg         Int8\n",
       "int         Int8\n",
       "atm         Int8\n",
       "col         Int8\n",
       "catr        Int8\n",
       "circ        Int8\n",
       "nbv         Int8\n",
       "vosp        Int8\n",
       "prof        Int8\n",
       "plan        Int8\n",
       "surf        Int8\n",
       "infra       Int8\n",
       "situ        Int8\n",
       "dtype: object"
      ]
     },
     "execution_count": 4,
     "metadata": {},
     "output_type": "execute_result"
    }
   ],
   "source": [
    "users_caracteristics_data = pd.merge(lr_data_users,\n",
    "                                    lr_data_caracteristics,\n",
    "                                    how='left',\n",
    "                                    on=['Num_Acc', 'Num_Acc'])\n",
    "ucpd = pd.merge(users_caracteristics_data,\n",
    "                                           lr_data_places,\n",
    "                                           how='left',\n",
    "                                           on=['Num_Acc', 'Num_Acc'])\n",
    "\n",
    "def convert_lum(x):\n",
    "    if x == 5:\n",
    "        return 3\n",
    "    if x == 3:\n",
    "        return 5\n",
    "    return x\n",
    "\n",
    "def convert_hrmn(x):\n",
    "    hours, minutes = divmod(x, 100)\n",
    "    return hours * 60 + minutes\n",
    "\n",
    "\n",
    "ucpd['lum'] = ucpd['lum'].map(lambda a: convert_lum(a))\n",
    "ucpd['hrmn'] = ucpd['hrmn'].map(lambda a: convert_hrmn(a))\n",
    "ucpd['an_nais'] = 2000 + ucpd['an'] - ucpd['an_nais']\n",
    "\n",
    "ucpd[['lum', 'hrmn', 'an_nais']].head()\n",
    "ucpd.dtypes"
   ]
  },
  {
   "cell_type": "code",
   "execution_count": 5,
   "id": "70a0fc00",
   "metadata": {
    "scrolled": true
   },
   "outputs": [
    {
     "data": {
      "text/plain": [
       "array([[ 3.81779598e+00, -1.74341710e+00,  2.99076319e-02,\n",
       "         2.24461237e-01,  2.62509207e-01,  1.01301926e+00,\n",
       "         2.72873878e+00,  3.41003624e-03,  1.78813305e-02,\n",
       "        -4.10717786e-02, -1.38086332e-03,  1.23144708e+00,\n",
       "        -9.84821733e+00, -2.01049260e-01,  1.72332640e-01,\n",
       "         5.51752385e-02,  5.59368198e-01,  6.28618716e-01,\n",
       "        -1.08293563e+00, -5.49637892e-01, -1.24174939e-01,\n",
       "         2.16736495e+00, -7.99960927e-02,  1.71273378e-01,\n",
       "         3.38664901e+00]])"
      ]
     },
     "execution_count": 5,
     "metadata": {},
     "output_type": "execute_result"
    }
   ],
   "source": [
    "from sklearn.linear_model import LinearRegression\n",
    "import numpy as np\n",
    "\n",
    "ucpd.dropna(inplace=True)\n",
    "\n",
    "X = ucpd.loc[:, ucpd.columns!= 'grav']\n",
    "X = X.loc[:, X.columns!='Num_Acc']\n",
    "Y = ucpd[['grav']]\n",
    "\n",
    "\n",
    "#for column in X.columns:\n",
    "#    print(X[[column]].value_counts())\n",
    "\n",
    "reg = LinearRegression().fit(X, Y)\n",
    "reg.coef_\n",
    "\n",
    "#1876005"
   ]
  },
  {
   "cell_type": "code",
   "execution_count": 6,
   "id": "a76574dc",
   "metadata": {},
   "outputs": [
    {
     "data": {
      "image/png": "[encoded data removed]",
      "text/plain": [
       "<Figure size 396x244.741 with 1 Axes>"
      ]
     },
     "metadata": {
      "needs_background": "light"
     },
     "output_type": "display_data"
    }
   ],
   "source": [
    "plt.rcParams.update(bundles.neurips2021(usetex=False))\n",
    "plt.barh(X.columns, np.reshape(reg.coef_, newshape=-1), height=0.8)\n",
    "plt.savefig('..//Plots//Linear_Regression_grav.pdf')\n",
    "plt.show()"
   ]
  },
  {
   "cell_type": "code",
   "execution_count": 7,
   "id": "1a768a6e",
   "metadata": {},
   "outputs": [],
   "source": [
    "bike_lr_data_users = data_users[['Num_Acc', 'catu', 'grav', 'sexe', 'an_nais', 'trajet',\n",
    "                           'locp', 'actp', 'etatp', 'num_veh']]\n",
    "bike_lr_data_vehicles = data_vehicles[['Num_Acc', 'num_veh', 'catv']]\n"
   ]
  },
  {
   "cell_type": "code",
   "execution_count": 8,
   "id": "fce5addf",
   "metadata": {},
   "outputs": [],
   "source": [
    "bike_user_data = pd.merge(bike_lr_data_users,\n",
    "                         bike_lr_data_vehicles,\n",
    "                         how='left',\n",
    "                         left_on=['Num_Acc', 'num_veh'],\n",
    "                         right_on=['Num_Acc', 'num_veh'])\n",
    "\n",
    "bike_user_data = bike_user_data.loc[bike_user_data['catv'] == 1]\n",
    "bike_user_data = bike_user_data.loc[:, bike_user_data.columns != 'num_veh']\n",
    "\n",
    "bike_users_caracteristics_data = pd.merge(bike_user_data,\n",
    "                                    lr_data_caracteristics,\n",
    "                                    how='left',\n",
    "                                    on=['Num_Acc', 'Num_Acc'])\n",
    "\n",
    "bucpd = pd.merge(bike_users_caracteristics_data,\n",
    "                                           lr_data_places,\n",
    "                                           how='left',\n",
    "                                           on=['Num_Acc', 'Num_Acc'])\n",
    "\n",
    "bucpd['lum'] = bucpd['lum'].map(lambda a: convert_lum(a))\n",
    "bucpd['hrmn'] = bucpd['hrmn'].map(lambda a: convert_hrmn(a))\n",
    "bucpd['an_nais'] = 2000 + bucpd['an'] - bucpd['an_nais']\n",
    "\n",
    "bucpd.dropna(inplace=True)"
   ]
  },
  {
   "cell_type": "code",
   "execution_count": 9,
   "id": "ec081fc1",
   "metadata": {},
   "outputs": [
    {
     "data": {
      "text/plain": [
       "array([[-2.78946917e-01, -9.65744386e-01,  1.59201602e-01,\n",
       "         4.89652292e-01, -3.18561827e-01,  6.65978796e-02,\n",
       "         5.86557467e-01,  1.03283995e-03,  6.01292794e-02,\n",
       "        -5.22213346e-02, -3.28021796e-04,  8.61177580e-01,\n",
       "        -1.66052593e+01, -3.33850895e-01,  4.60245630e-01,\n",
       "        -1.42498889e+00, -1.04629530e+00,  2.03674972e+00,\n",
       "        -8.61644505e-01, -1.49286790e+00,  1.25971892e+00,\n",
       "         1.16559092e+00,  2.73156055e-01,  6.26674209e-01,\n",
       "        -6.71140719e-01]])"
      ]
     },
     "execution_count": 9,
     "metadata": {},
     "output_type": "execute_result"
    }
   ],
   "source": [
    "bike_X = bucpd.loc[:, bucpd.columns!= 'grav']\n",
    "bike_X = bike_X.loc[:, bike_X.columns!='Num_Acc']\n",
    "bike_X = bike_X.loc[:, bike_X.columns!='catv']\n",
    "bike_Y = bucpd[['grav']]\n",
    "\n",
    "bike_reg = LinearRegression().fit(bike_X, bike_Y)\n",
    "bike_reg.coef_"
   ]
  },
  {
   "cell_type": "code",
   "execution_count": 10,
   "id": "34d02f6b",
   "metadata": {},
   "outputs": [
    {
     "data": {
      "image/png": "[encoded data removed]",
      "text/plain": [
       "<Figure size 396x244.741 with 1 Axes>"
      ]
     },
     "metadata": {
      "needs_background": "light"
     },
     "output_type": "display_data"
    }
   ],
   "source": [
    "plt.rcParams.update(bundles.neurips2021(usetex=False))\n",
    "plt.barh(bike_X.columns, np.reshape(bike_reg.coef_, newshape=-1), height=0.8)\n",
    "plt.savefig('..//Plots//Bike_Linear_Regression_grav.pdf')\n",
    "plt.show()"
   ]
  },
  {
   "cell_type": "code",
   "execution_count": null,
   "id": "cd1d2d9b",
   "metadata": {},
   "outputs": [],
   "source": []
  }
 ],
 "metadata": {
  "kernelspec": {
   "display_name": "Python 3 (ipykernel)",
   "language": "python",
   "name": "python3"
  },
  "language_info": {
   "codemirror_mode": {
    "name": "ipython",
    "version": 3
   },
   "file_extension": ".py",
   "mimetype": "text/x-python",
   "name": "python",
   "nbconvert_exporter": "python",
   "pygments_lexer": "ipython3",
   "version": "3.9.8"
  }
 },
 "nbformat": 4,
 "nbformat_minor": 5
}
